{
 "cells": [
  {
   "cell_type": "markdown",
   "metadata": {
    "id": "k8uiCgtGfIKa"
   },
   "source": [
    "# **NumPy And Pandas**"
   ]
  },
  {
   "cell_type": "markdown",
   "metadata": {
    "id": "4jBRSw7KkOEV"
   },
   "source": [
    "\n",
    "\n",
    "## Background\n",
    "\n",
    "\n",
    "<div style=\"font-family: 'Garamond', serif;\n",
    "    font-size: 16px;\n",
    "    text-indent: 0.25in;\n",
    "    line-height: 1.5;\">\n",
    "\n",
    "This chapter uses the Python libraries Pandas and NumPy. The basic usage of these libraries is detailed in two Notebooks: \"[A Quick Introduction to Pandas](https://patrickjhess.github.io/Introduction-To-Python-For-Financial-Python/An_Introduction_To_Pandas.html)\" reviews some basic concepts of Pandas, and \"[A Quick Introduction to NumPy](https://patrickjhess.github.io/Introduction-To-Python-For-Financial-Python/An_Introduction_To_NumPy.html)\" does the same for NumPy. These Notebooks are part of the introductory volume [Background Material: An Introduction to Python for Financial Python](https://patrickjhess.github.io/Introduction-To-Python-For-Financial-Python/intro.html). Portions of the volume will be cited throughout this chapter. Feel free to consult these materials as needed for greater discussion of Python concepts.\n",
    "</div>\n",
    "</br>\n"
   ]
  },
  {
   "cell_type": "markdown",
   "metadata": {
    "id": "cRTOsjhO4SXc"
   },
   "source": [
    "## Preparing the Notebook\n",
    "\n",
    "\n",
    "### Importing libraries and functions\n",
    "\n",
    "<span style=\"font-family: 'Garamond', serif;\n",
    "    font-size: 16px;\n",
    "    text-indent: 0.25in;\n",
    "    line-height: 1.5;\">\n",
    "\n",
    "It's good practice to import all required libraries and modules in the first code cell of a Notebook. Unless a new function or module is being introduced, this chapter follows the practice. If a library is already installed, it's imported to the Notebook. If a library isn't installed, it's installed and then imported.</span>\n",
    "\n",
    "<span style=\"font-family: 'Garamond', serif;\n",
    "    font-size: 16px;\n",
    "    text-indent: 0.25in;\n",
    "    line-height: 1.5;\">\n",
    "The standard Python installation includes five module imports: <font color='green'>os</font>, <font color='green'>sys</font>, <font color='green'>requests</font>, <font color='green'>types</font>, and <font color='green'>datetime</font>. The imports <font color='green'>os</font> and <font color='green'>sys</font> facilitate interaction with the operating system. The <font color='green'>requests</font> module enables sending and retrieving data from external URLs; in this notebook, the module is specifically used to access files from Dropbox. The <font color='green'>types</font> module lets us create the module from the Python code accessed from Dropbox. Finally, <font color='green'>datetime</font> allows for the creation and manipulation of date objects.</span>\n",
    "\n",
    "<span style=\"font-family: 'Garamond', serif;\n",
    "    font-size: 16px;\n",
    "    text-indent: 0.25in;\n",
    "    line-height: 1.5;\">\n",
    "The below code imports these modules, and specifically accesses <font color='green'>types</font> and <font color='green'>datetime</font> to import <font color='green'>ModuleType</font> and <font color='green'>date</font>, respectively. <font color='green'>ModuleType</font> will allow us to *instantiate* new modules, and we'll use <font color='green'>date</font> for our date calculations later.\n",
    "</span>\n",
    "\n",
    "<span style=\"margin-left: 1in;\">\n",
    "\n",
    "```\n",
    "import os\n",
    "import sys\n",
    "import requests\n",
    "from types import ModuleType\n",
    "from datetime import date\n",
    "```\n",
    "</span>\n",
    "\n",
    "<br>\n",
    "\n",
    "<span style=\"font-family: 'Garamond', serif;\n",
    "    font-size: 16px;\n",
    "    text-indent: 0.25in;\n",
    "    line-height: 1.5;\">\n",
    "\n",
    "NumPy and Pandas, though not standard Python libraries, are often preinstalled in Jupyter Notebooks as well as included in Notebook environments like Google Colaboratory (Colab). To ensure library availability, a <font color='green'>try</font> and <font color='green'>except</font> block is used to import NumPy and Pandas in the code below. The <font color='green'>try</font> and <font color='green'>except</font> block is used to resolve instances where the import fails: If the attempted import within the <font color='green'>try</font> segment fails, the <font color='green'>except</font> portion will install the libraries using <font color='green'>pip</font>, a package installer for Python. The exclamation mark preceding <font color='green'>pip</font> indicates that <font color='green'>pip</font> is running through the machine's console rather than within the Notebook. Upon successful import, NumPy and Pandas are *aliased as* (or assigned the names of) <font color='green'>np</font> and <font color='green'>pd</font>, respectively.$^{2}$\n",
    "</span>\n",
    "\n",
    "<span style=\"margin-left: 1in;\">\n",
    "\n",
    "```\n",
    "try:\n",
    "    import numpy as np\n",
    "except:\n",
    "    !pip install numpy\n",
    "    import numpy as np\n",
    "try:\n",
    "    import pandas as pd\n",
    "except:\n",
    "    !pip install pandas\n",
    "    import pandas as pd\n",
    "```\n",
    "\n",
    "</span>\n",
    "\n",
    "<br>\n",
    "\n",
    "<span style=\"font-family: 'Garamond', serif;\n",
    "    font-size: 16px;\n",
    "    text-indent: 0.25in;\n",
    "    line-height: 1.5;\">\n",
    "The following cell shows our completed code cell for imports.\n",
    "</span>\n",
    "\n",
    "\n",
    "\n",
    "<hr>\n",
    "\n",
    "<span style=\"font-family: 'Garamond', serif;\n",
    "          font-size: 10.5px;\n",
    "          line-height: 1.3;\">\n",
    "\n",
    "$^{2}$ For more information on <font color='green'>try</font> and <font color='green'>except</font> statements, see \"<a href='https://patrickjhess.github.io/Introduction-To-Python-For-Financial-Python/Control_Statements.html#the-try-and-except'>Control Statements</a>.\"\n",
    "</span>"
   ]
  },
  {
   "cell_type": "markdown",
   "metadata": {
    "id": "Zcr99UxGZxPx"
   },
   "source": []
  },
  {
   "cell_type": "code",
   "execution_count": 1,
   "metadata": {
    "id": "ie1z0N5Z2dZb"
   },
   "outputs": [],
   "source": [
    "import os\n",
    "import sys\n",
    "import requests\n",
    "from types import ModuleType\n",
    "try:\n",
    "    import numpy as np\n",
    "except:\n",
    "    !pip install numpy\n",
    "    import numpy as np\n",
    "try:\n",
    "    import pandas as pd\n",
    "except:\n",
    "    !pip install pandas\n",
    "    import pandas as pd"
   ]
  },
  {
   "cell_type": "markdown",
   "metadata": {
    "id": "e8oQVQJ6LkxF"
   },
   "source": [
    "## NumPy Arrays\n",
    "\n",
    "\n",
    "<span style=\"font-family: 'Garamond', serif;\n",
    "    font-size: 14px;\n",
    "    text-indent: 0.25in;\n",
    "    line-height: 1.5;\">\n",
    "\n",
    "The NumPy library offers efficient numerical procedures that simplify complex calculations.$^{3}$ The fundamental object in this library is the NumPy array. An array is simply a data structure in which elements are arranged and accessed. It can be formed from a single value or from an iterable data type like a list, which holds a series of values.$^{4}$ NumPy must be imported before use; recall that in this Notebook, it was imported and aliased as <font color='green'>np</font> in the first code cell. The <font color='green'>array()</font> method is used to convert variables into NumPy arrays.$^{5}$ The following code creates an array from the list <font color='green'>[3%, 5%, 7%]</font> (lists are stylized with square brackets) and assigns that array to <font color='green'>interest_rates</font>. This is then passed to <font color='green'>display()</font>, which simply displays the contents of <font color='green'>interest_rates</font>.\n",
    "</span>\n",
    "\n",
    "\n",
    "\n",
    "<hr>\n",
    "\n",
    "<span style=\"font-family: 'Garamond', serif;\n",
    "          font-size: 10.5px;\n",
    "          text-indent: 0.13in;\n",
    "          line-height: 1.3;\">\n",
    "\n",
    "$^{3}$ For more information on NumPy, see \"<a href='https://patrickjhess.github.io/Introduction-To-Python-For-Financial-Python/An_Introduction_To_NumPy.html#numpy'>A Quick Introduction To NumPy</a>.\"\n",
    "\n",
    "$^{4}$ For more information on list objects, see \"<a href='https://patrickjhess.github.io/Introduction-To-Python-For-Financial-Python/A_First_Look_At_Lists.html#a-first-look-at-lists'>A First Look at Lists</a>.\"\n",
    "\n",
    "$^{5}$ Like other libraries, the alias <font color='green'>np</font> must be appended to the method, as in <font color='green'>np.array</font> instead of <font color='green'>array</font>.\n",
    "</span>"
   ]
  },
  {
   "cell_type": "code",
   "execution_count": 2,
   "metadata": {
    "colab": {
     "base_uri": "https://localhost:8080/",
     "height": 34
    },
    "id": "40SqRI2sNVsG",
    "outputId": "ace57242-f825-4cfa-d1d3-991ce3d0fdf7"
   },
   "outputs": [
    {
     "data": {
      "text/plain": [
       "array([0.03, 0.05, 0.07])"
      ]
     },
     "metadata": {},
     "output_type": "display_data"
    }
   ],
   "source": [
    "interest_rates=np.array([0.03,0.05,0.07])\n",
    "display(interest_rates)"
   ]
  },
  {
   "cell_type": "markdown",
   "metadata": {
    "id": "7rN6uZewP6Bd"
   },
   "source": [
    "##NumPy Calculations\n",
    "\n",
    "\n",
    "<span style=\"font-family: 'Garamond', serif;\n",
    "    font-size: 14px;\n",
    "    text-indent: 0.25in;\n",
    "    line-height: 1.5;\">\n",
    "    \n",
    "Now that we've created an array and assigned it to <font color='green'>interest_rates</font>, we can perform calculations on that array. NumPy calculates array elements individually. For instance, the <font color='green'>exp()</font> method used below raises Euler’s number, $e$, to the power of each element of <font color='green'>interest_rates</font> resulting in future value factors. This approach is faster and more convenient than iterating through the rates.\n",
    "</span>"
   ]
  },
  {
   "cell_type": "code",
   "execution_count": 3,
   "metadata": {
    "colab": {
     "base_uri": "https://localhost:8080/",
     "height": 34
    },
    "id": "i9m6r2rRUCJ2",
    "outputId": "e11b287d-ea61-4133-9bc2-4fa82e8976c4"
   },
   "outputs": [
    {
     "data": {
      "text/plain": [
       "array([1.03045453, 1.0512711 , 1.07250818])"
      ]
     },
     "metadata": {},
     "output_type": "display_data"
    }
   ],
   "source": [
    "display(np.exp(interest_rates))"
   ]
  },
  {
   "cell_type": "markdown",
   "metadata": {
    "id": "bjK2ippQxMBu"
   },
   "source": [
    " <h2><font color='green'><b><i>Application: Create a NumPy Array</i></b></font></h2>\n"
   ]
  },
  {
   "cell_type": "markdown",
   "metadata": {
    "id": "DuGBgl3T0a9B"
   },
   "source": [
    "<span style=\"display:block;background-color:LightGray;\n",
    "    border-left: 12px solid green;\n",
    "    font-family: 'Garamond', serif;\n",
    "    line-height: 1.5;\n",
    "    padding: 15px\">\n",
    "    <br>\n",
    "Create a NumPy array of the present-value factors for the rates of <font color='green'>interest_rates</font>. For hints, see [Chapter One Hints: Create a NumPy Array](https://patrickjhess.github.io/Hints-Results/Chapter_One_Hints.html#create-a-numpy-array), and for expected results, see [Chapter One Expected Results: Create a NumPy Array](https://patrickjhess.github.io/Hints-Results/Chapter_One_Results.html#create-a-numpy-array).\n",
    "<br>\n",
    "<br>\n",
    "</span>\n"
   ]
  },
  {
   "cell_type": "markdown",
   "metadata": {
    "id": "agCy6JnwNODE"
   },
   "source": [
    "## Two-Dimensional NumPy arrays\n",
    "\n",
    "<span style=\"font-family: 'Garamond', serif;\n",
    "    font-size: 14px;\n",
    "    text-indent: 0.25in;\n",
    "    line-height: 1.5;\">\n",
    "    \n",
    "The <font color='green'>pv_rates</font> array in the code below is a *two-dimensional* NumPy array (or matrix). It's created by combining two one-dimensional arrays&mdash;<font color='green'>interest_rates</font> and <font color='green'>pv_factors</font>&mdash;within the <font color='green'>array()</font> method. To access the rows of this two-dimensional array, we'll use the corresponding row *index* value. (The index value is simply an element's sequential position in the array. Remember that in programming, sequences begin at position 0, not 1). Finally, both the interest rates and present-value factors are displayed below using *f-strings*. These are like strings, but begin with an \"f\" and are used to include variables and expressions within a string. The variable must be enclosed in curly brackets (i.e., { }), and the indexed value must be enclosed in square brackets ([ ]).\n",
    "\n",
    "</span>\n"
   ]
  },
  {
   "cell_type": "code",
   "execution_count": 4,
   "metadata": {
    "colab": {
     "base_uri": "https://localhost:8080/",
     "height": 88
    },
    "id": "vOqgaL8GLb3c",
    "outputId": "00b1dff9-9fd8-4318-9865-e26626bcc762"
   },
   "outputs": [
    {
     "data": {
      "text/plain": [
       "array([[0.03      , 0.05      , 0.07      ],\n",
       "       [0.97044553, 0.95122942, 0.93239382]])"
      ]
     },
     "metadata": {},
     "output_type": "display_data"
    },
    {
     "data": {
      "text/plain": [
       "'Interest Rates [0.03 0.05 0.07]'"
      ]
     },
     "metadata": {},
     "output_type": "display_data"
    },
    {
     "data": {
      "text/plain": [
       "'Present Value Factors [0.97044553 0.95122942 0.93239382]'"
      ]
     },
     "metadata": {},
     "output_type": "display_data"
    }
   ],
   "source": [
    "#A calculation is make for each element of a numpy array\n",
    "pv_factors=1/np.exp(interest_rates)\n",
    "pv_rates=np.array([interest_rates,pv_factors])\n",
    "display(pv_rates)\n",
    "#Create an f string for each row.\n",
    "#Each row must also be encapsulated in curly brackets\n",
    "display(f'Interest Rates {pv_rates[0]}')\n",
    "display(f'Present Value Factors {pv_rates[1]}')"
   ]
  },
  {
   "cell_type": "markdown",
   "metadata": {
    "id": "k6dmeMg5xMBv"
   },
   "source": [
    "<h2> <font color='green'><b><i>Application: Manipulate a Two-Dimensional Array</i></b></font></h2>"
   ]
  },
  {
   "cell_type": "markdown",
   "metadata": {
    "id": "EOUU5zKQ05jJ"
   },
   "source": [
    "<span style=\"display:block;background-color:LightGray;\n",
    "    border-left: 12px solid green;\n",
    "    font-family: 'Garamond', serif;\n",
    "    line-height: 1.5;\n",
    "    padding: 15px\">\n",
    "    <br>\n",
    "Create a two-dimensional array by raising the interest-rate row to Euler’s number and multiplying the results by the present value factors. For hints, see [Chapter One Hints: Manipulate a Two-Dimensional Array](https://patrickjhess.github.io/Hints-Results/Chapter_One_Hints.html#manipulate-two-dimensional-array), and for expected results, see [Chapter One Expected Results: Manipulate a Two-Dimensional Array](https://patrickjhess.github.io/Hints-Results/Chapter_One_Results.html#manipulate-two-dimensional-array).\n",
    "\n",
    "<br>\n",
    "<br>\n",
    "</span>\n"
   ]
  },
  {
   "cell_type": "markdown",
   "metadata": {
    "id": "ld8qwpMnOihf"
   },
   "source": [
    "## Creating a Pandas DataFrame from NumPy Arrays\n",
    "\n",
    "### A simple example\n",
    "\n",
    "\n",
    "<span style=\"font-family: 'Garamond', serif;\n",
    "    font-size: 14px;\n",
    "    text-indent: 0.25in;\n",
    "    line-height: 1.5;\">\n",
    "    \n",
    "The Pandas library is a powerful resource for data analysis. Recall that like NumPy, we imported Pandas in our earlier code cell. For this section, we'll be using Pandas to access a structure called a *DataFrame*. A Pandas DataFrame organizes data into rows and columns, much like an Excel spreadsheet or a NumPy array. It can be created from a two-dimensional array, such as our newly created <font color='green'>pv_rates</font>. The simplest DataFrames automatically assign row and column index values; a more functional approach allows for the explicit naming of both. In the simple example below, the <font color='green'>DataFrame()</font> method of Pandas uses three arrays as arguments, generating a row for each array.\n",
    "\n",
    "</span>\n"
   ]
  },
  {
   "cell_type": "code",
   "execution_count": 5,
   "metadata": {
    "colab": {
     "base_uri": "https://localhost:8080/",
     "height": 143
    },
    "id": "rhs4dPbZBewm",
    "outputId": "b898a251-9666-42bb-d459-a074ad92618b"
   },
   "outputs": [
    {
     "data": {
      "text/html": [
       "<div>\n",
       "<style scoped>\n",
       "    .dataframe tbody tr th:only-of-type {\n",
       "        vertical-align: middle;\n",
       "    }\n",
       "\n",
       "    .dataframe tbody tr th {\n",
       "        vertical-align: top;\n",
       "    }\n",
       "\n",
       "    .dataframe thead th {\n",
       "        text-align: right;\n",
       "    }\n",
       "</style>\n",
       "<table border=\"1\" class=\"dataframe\">\n",
       "  <thead>\n",
       "    <tr style=\"text-align: right;\">\n",
       "      <th></th>\n",
       "      <th>0</th>\n",
       "      <th>1</th>\n",
       "      <th>2</th>\n",
       "    </tr>\n",
       "  </thead>\n",
       "  <tbody>\n",
       "    <tr>\n",
       "      <th>0</th>\n",
       "      <td>0.030000</td>\n",
       "      <td>0.050000</td>\n",
       "      <td>0.070000</td>\n",
       "    </tr>\n",
       "    <tr>\n",
       "      <th>1</th>\n",
       "      <td>1.030455</td>\n",
       "      <td>1.051271</td>\n",
       "      <td>1.072508</td>\n",
       "    </tr>\n",
       "    <tr>\n",
       "      <th>2</th>\n",
       "      <td>0.970446</td>\n",
       "      <td>0.951229</td>\n",
       "      <td>0.932394</td>\n",
       "    </tr>\n",
       "  </tbody>\n",
       "</table>\n",
       "</div>"
      ],
      "text/plain": [
       "          0         1         2\n",
       "0  0.030000  0.050000  0.070000\n",
       "1  1.030455  1.051271  1.072508\n",
       "2  0.970446  0.951229  0.932394"
      ]
     },
     "metadata": {},
     "output_type": "display_data"
    }
   ],
   "source": [
    "# Dataframe created with DataFrame() method\n",
    "simple_example=pd.DataFrame((interest_rates,\n",
    "              np.exp(interest_rates),\n",
    "              1/np.exp(interest_rates)))\n",
    "display(simple_example)"
   ]
  },
  {
   "cell_type": "markdown",
   "metadata": {
    "id": "8KfMNwHknodw"
   },
   "source": [
    "<h2> <font color='green'><b><i>Application:Create a DataFrame from a Two-Dimensional Array</i></b></font></h2>"
   ]
  },
  {
   "cell_type": "markdown",
   "metadata": {
    "id": "T-mN2aQX3a29"
   },
   "source": [
    "<span style=\"display:block;background-color:LightGray;\n",
    "    border-left: 12px solid green;\n",
    "    font-family: 'Garamond', serif;\n",
    "    line-height: 1.5;\n",
    "    padding: 15px\">\n",
    "    <br>\n",
    "Create a DataFrame with the two-dimensional array <font color='green'>pv_rates</font>. For hints, see [Chapter One Hints: Create A DataFrame From A Two-Dimensional Array](https://patrickjhess.github.io/Hints-Results/Chapter_One_Hints.html#create-a-dataframe-from-a-two-dimensional-array), for expected results, see [Chapter One Expected Results: Create A DataFrame From A Two-Dimensional Array](https://patrickjhess.github.io/Hints-Results/Chapter_One_Results.html#create-a-dataframe-from-a-two-dimensional-array).\n",
    "\n",
    "\n",
    "\n",
    "\n",
    "<br>\n",
    "<br>\n",
    "</span>\n"
   ]
  },
  {
   "cell_type": "markdown",
   "metadata": {
    "id": "8-cafn9ZJvOX"
   },
   "source": [
    "## Making rows into columns and labeling the columns\n",
    "\n",
    "\n",
    "\n",
    "<span style=\"font-family: 'Garamond', serif;\n",
    "    font-size: 14px;\n",
    "    text-indent: 0.25in;\n",
    "    line-height: 1.5;\">\n",
    "\n",
    "In the below code, rows are converted to columns by using the <font color='green'>transpose()</font> method on our earlier DataFrame, <font color='green'>simple_example</font>. This method changes the rows into columns.$^{6}$ The transposed result is then assigned to <font color='green'>rows_to_columns</font>, and the columns are then assigned the elements of a list (<font color='green'>['Rates', 'Future Value', 'Present Value']</font>).  Transposing the DataFrame makes <font color='green'>'Rates'</font>, <font color='green'>'Future Value'</font>, and <font color='green'>'Present Value'</font> the variables and makes the rows the observations of those variables.\n",
    "\n",
    "</span>\n",
    "\n",
    "<hr>\n",
    "<span style=\"font-family: 'Garamond', serif;\n",
    "          font-size: 10.5px;\n",
    "          text-indent: 0.13in;\n",
    "          line-height: 1.3;\">\n",
    "\n",
    "6.&nbsp;The method can also be applied as simply <font color='green'>T</font>. See \"<a href='https://patrickjhess.github.io/Introduction-To-Python-For-Financial-Python/An_Introduction_To_Pandas.html#the-transpose'>A Quick Introduction To Pandas</a>.\"\n",
    "\n",
    "</span>\n",
    "\n"
   ]
  },
  {
   "cell_type": "code",
   "execution_count": 6,
   "metadata": {
    "colab": {
     "base_uri": "https://localhost:8080/",
     "height": 143
    },
    "id": "zCme5RCiZF0G",
    "outputId": "53944a76-1b53-4073-956a-32a4a3580c09"
   },
   "outputs": [
    {
     "data": {
      "text/html": [
       "<div>\n",
       "<style scoped>\n",
       "    .dataframe tbody tr th:only-of-type {\n",
       "        vertical-align: middle;\n",
       "    }\n",
       "\n",
       "    .dataframe tbody tr th {\n",
       "        vertical-align: top;\n",
       "    }\n",
       "\n",
       "    .dataframe thead th {\n",
       "        text-align: right;\n",
       "    }\n",
       "</style>\n",
       "<table border=\"1\" class=\"dataframe\">\n",
       "  <thead>\n",
       "    <tr style=\"text-align: right;\">\n",
       "      <th></th>\n",
       "      <th>Rates</th>\n",
       "      <th>Future Value</th>\n",
       "      <th>Present Value</th>\n",
       "    </tr>\n",
       "  </thead>\n",
       "  <tbody>\n",
       "    <tr>\n",
       "      <th>0</th>\n",
       "      <td>0.03</td>\n",
       "      <td>1.030455</td>\n",
       "      <td>0.970446</td>\n",
       "    </tr>\n",
       "    <tr>\n",
       "      <th>1</th>\n",
       "      <td>0.05</td>\n",
       "      <td>1.051271</td>\n",
       "      <td>0.951229</td>\n",
       "    </tr>\n",
       "    <tr>\n",
       "      <th>2</th>\n",
       "      <td>0.07</td>\n",
       "      <td>1.072508</td>\n",
       "      <td>0.932394</td>\n",
       "    </tr>\n",
       "  </tbody>\n",
       "</table>\n",
       "</div>"
      ],
      "text/plain": [
       "   Rates  Future Value  Present Value\n",
       "0   0.03      1.030455       0.970446\n",
       "1   0.05      1.051271       0.951229\n",
       "2   0.07      1.072508       0.932394"
      ]
     },
     "metadata": {},
     "output_type": "display_data"
    }
   ],
   "source": [
    "#transpose the simple_example dataframe and call it rows_to_columns\n",
    "rows_to_columns=simple_example.transpose()\n",
    "#(the transpose method can also be written as simple_example.T)\n",
    "rows_to_columns.columns=['Rates','Future Value','Present Value']\n",
    "display(rows_to_columns)"
   ]
  },
  {
   "cell_type": "markdown",
   "metadata": {
    "id": "aKRgVmQRbCZy"
   },
   "source": [
    "## The set_index() method\n",
    "\n",
    "\n",
    "Once the DataFrame has been transposed, the next step is to make the <font color='green'>Rates</font> column the index.  Why? The reason is that the values of <font color='green'>Rates</font> determine the values of the columns <font color='green'>Future Value</font> and <font color='green'>Pesent Value</font>. This change isn't necessary, but it draws our eye to a natural connection. Instead of an index that points only to a row number, the new index points to the rate that results in the future and present values.\n",
    "\n",
    "The method <font color='green'>set_index()</font> takes a column name and removes the column from the DataFrame. Pandas has a built-in *fail-safe-switch*. By default, this change (and others we'll encounter later) doesn't permanently alter the DataFrame. This might seem a bit strange, but <font color='SeaGreen'>this characteristic prevents mistakes that are difficult to fix.</font> To make the change permanent, you can do the following:$^{7}$\n",
    "\n",
    "<span style=\"font-family: 'Garamond', serif;\n",
    "    font-size: 14px;\n",
    "    text-indent: 0.25in;\n",
    "    line-height: 1.5;\">\n",
    "\n",
    "1.&nbsp;Assign the transposed value of the DataFrame to another DataFrame:\n",
    "</span>\n",
    "\n",
    "<span style=\"margin-left: 1in;\">\n",
    "\n",
    "```\n",
    "name_index_set_index=rows_to_columns.set_index('Rates')\n",
    "display(name_index_set)\n",
    "display(rows_to_columns)\n",
    "```\n",
    "</span>\n",
    "<span style=\"font-family: 'Garamond', serif;\n",
    "    font-size: 14px;\n",
    "    text-indent: 0.25in;\n",
    "    line-height: 1.5;\">\n",
    "\n",
    "2.&nbsp;Change the default value of the <font color='green'>inplace</font> argument of <font color='green'>set_index</font>  to True\n",
    "</span>\n",
    "\n",
    "<span style=\"margin-left: 1in;\">\n",
    "\n",
    "```\n",
    "rows_to_columns.set_index('Rates',inplace=True)\n",
    "display(rows_to_columns)\n",
    "```\n",
    "</span>\n",
    "\n",
    "<hr>\n",
    "<span style=\"font-family: 'Garamond', serif;\n",
    "          font-size: 10.5px;\n",
    "          text-indent: 0.13in;\n",
    "          line-height: 1.3;\">\n",
    "\n",
    "7.&nbsp;See \"<a href='https://patrickjhess.github.io/Introduction-To-Python-For-Financial-Python/An_Introduction_To_Pandas.html#making-a-column-the-index'>A Quick Introduction To Pandas</a>.\"\n",
    "\n",
    "</span>\n"
   ]
  },
  {
   "cell_type": "code",
   "execution_count": 7,
   "metadata": {
    "colab": {
     "base_uri": "https://localhost:8080/",
     "height": 459
    },
    "id": "qThbwgknZF0H",
    "outputId": "b7ea23c1-ab1d-4fe7-babf-407f32b2ab22"
   },
   "outputs": [
    {
     "data": {
      "text/html": [
       "<div>\n",
       "<style scoped>\n",
       "    .dataframe tbody tr th:only-of-type {\n",
       "        vertical-align: middle;\n",
       "    }\n",
       "\n",
       "    .dataframe tbody tr th {\n",
       "        vertical-align: top;\n",
       "    }\n",
       "\n",
       "    .dataframe thead th {\n",
       "        text-align: right;\n",
       "    }\n",
       "</style>\n",
       "<table border=\"1\" class=\"dataframe\">\n",
       "  <thead>\n",
       "    <tr style=\"text-align: right;\">\n",
       "      <th></th>\n",
       "      <th>Future Value</th>\n",
       "      <th>Present Value</th>\n",
       "    </tr>\n",
       "    <tr>\n",
       "      <th>Rates</th>\n",
       "      <th></th>\n",
       "      <th></th>\n",
       "    </tr>\n",
       "  </thead>\n",
       "  <tbody>\n",
       "    <tr>\n",
       "      <th>0.03</th>\n",
       "      <td>1.030455</td>\n",
       "      <td>0.970446</td>\n",
       "    </tr>\n",
       "    <tr>\n",
       "      <th>0.05</th>\n",
       "      <td>1.051271</td>\n",
       "      <td>0.951229</td>\n",
       "    </tr>\n",
       "    <tr>\n",
       "      <th>0.07</th>\n",
       "      <td>1.072508</td>\n",
       "      <td>0.932394</td>\n",
       "    </tr>\n",
       "  </tbody>\n",
       "</table>\n",
       "</div>"
      ],
      "text/plain": [
       "       Future Value  Present Value\n",
       "Rates                             \n",
       "0.03       1.030455       0.970446\n",
       "0.05       1.051271       0.951229\n",
       "0.07       1.072508       0.932394"
      ]
     },
     "metadata": {},
     "output_type": "display_data"
    },
    {
     "data": {
      "text/html": [
       "<div>\n",
       "<style scoped>\n",
       "    .dataframe tbody tr th:only-of-type {\n",
       "        vertical-align: middle;\n",
       "    }\n",
       "\n",
       "    .dataframe tbody tr th {\n",
       "        vertical-align: top;\n",
       "    }\n",
       "\n",
       "    .dataframe thead th {\n",
       "        text-align: right;\n",
       "    }\n",
       "</style>\n",
       "<table border=\"1\" class=\"dataframe\">\n",
       "  <thead>\n",
       "    <tr style=\"text-align: right;\">\n",
       "      <th></th>\n",
       "      <th>Rates</th>\n",
       "      <th>Future Value</th>\n",
       "      <th>Present Value</th>\n",
       "    </tr>\n",
       "  </thead>\n",
       "  <tbody>\n",
       "    <tr>\n",
       "      <th>0</th>\n",
       "      <td>0.03</td>\n",
       "      <td>1.030455</td>\n",
       "      <td>0.970446</td>\n",
       "    </tr>\n",
       "    <tr>\n",
       "      <th>1</th>\n",
       "      <td>0.05</td>\n",
       "      <td>1.051271</td>\n",
       "      <td>0.951229</td>\n",
       "    </tr>\n",
       "    <tr>\n",
       "      <th>2</th>\n",
       "      <td>0.07</td>\n",
       "      <td>1.072508</td>\n",
       "      <td>0.932394</td>\n",
       "    </tr>\n",
       "  </tbody>\n",
       "</table>\n",
       "</div>"
      ],
      "text/plain": [
       "   Rates  Future Value  Present Value\n",
       "0   0.03      1.030455       0.970446\n",
       "1   0.05      1.051271       0.951229\n",
       "2   0.07      1.072508       0.932394"
      ]
     },
     "metadata": {},
     "output_type": "display_data"
    },
    {
     "data": {
      "text/html": [
       "<div>\n",
       "<style scoped>\n",
       "    .dataframe tbody tr th:only-of-type {\n",
       "        vertical-align: middle;\n",
       "    }\n",
       "\n",
       "    .dataframe tbody tr th {\n",
       "        vertical-align: top;\n",
       "    }\n",
       "\n",
       "    .dataframe thead th {\n",
       "        text-align: right;\n",
       "    }\n",
       "</style>\n",
       "<table border=\"1\" class=\"dataframe\">\n",
       "  <thead>\n",
       "    <tr style=\"text-align: right;\">\n",
       "      <th></th>\n",
       "      <th>Future Value</th>\n",
       "      <th>Present Value</th>\n",
       "    </tr>\n",
       "    <tr>\n",
       "      <th>Rates</th>\n",
       "      <th></th>\n",
       "      <th></th>\n",
       "    </tr>\n",
       "  </thead>\n",
       "  <tbody>\n",
       "    <tr>\n",
       "      <th>0.03</th>\n",
       "      <td>1.030455</td>\n",
       "      <td>0.970446</td>\n",
       "    </tr>\n",
       "    <tr>\n",
       "      <th>0.05</th>\n",
       "      <td>1.051271</td>\n",
       "      <td>0.951229</td>\n",
       "    </tr>\n",
       "    <tr>\n",
       "      <th>0.07</th>\n",
       "      <td>1.072508</td>\n",
       "      <td>0.932394</td>\n",
       "    </tr>\n",
       "  </tbody>\n",
       "</table>\n",
       "</div>"
      ],
      "text/plain": [
       "       Future Value  Present Value\n",
       "Rates                             \n",
       "0.03       1.030455       0.970446\n",
       "0.05       1.051271       0.951229\n",
       "0.07       1.072508       0.932394"
      ]
     },
     "metadata": {},
     "output_type": "display_data"
    }
   ],
   "source": [
    "name_index_set_index=rows_to_columns.set_index('Rates')\n",
    "display(name_index_set_index)\n",
    "display(rows_to_columns)\n",
    "rows_to_columns.set_index('Rates',inplace=True)\n",
    "display(rows_to_columns)"
   ]
  }
 ],
 "metadata": {
  "colab": {
   "provenance": []
  },
  "kernelspec": {
   "display_name": "Python 3",
   "name": "python3"
  },
  "language_info": {
   "codemirror_mode": {
    "name": "ipython",
    "version": 3
   },
   "file_extension": ".py",
   "mimetype": "text/x-python",
   "name": "python",
   "nbconvert_exporter": "python",
   "pygments_lexer": "ipython3",
   "version": "3.9.7"
  }
 },
 "nbformat": 4,
 "nbformat_minor": 0
}